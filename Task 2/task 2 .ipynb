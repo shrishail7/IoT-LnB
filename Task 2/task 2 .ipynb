{
 "cells": [
  {
   "cell_type": "code",
   "execution_count": 1,
   "id": "717f357d",
   "metadata": {},
   "outputs": [
    {
     "name": "stdout",
     "output_type": "stream",
     "text": [
      "Connected to Adafruit IO!\n",
      "Connected to Adafruit\n",
      " Current Status of motor is OFF \n",
      " The brightness is 50 % \n"
     ]
    }
   ],
   "source": [
    "import sys\n",
    "from Adafruit_IO import MQTTClient\n",
    "\n",
    "ADAFRUIT_IO_USERNAME = \"Shree_78\"\n",
    "ADAFRUIT_IO_KEY = \"aio_ziXr35DHTtMVA41NEnZEEpg9eu81\"\n",
    "\n",
    "def connect(client):\n",
    "    print(\"Connected to Adafruit\")\n",
    "    client.subscribe(\"SW1\")\n",
    "    client.subscribe(\"level\")\n",
    "    \n",
    "def disconnect(client):\n",
    "    print(\"Disconnected to Adafruit\")\n",
    "    sys.exit()\n",
    "    \n",
    "def message(client , feed_id , payload):\n",
    "    #print(f\"feed {feed_id} received new value : {payload}\")\n",
    "\n",
    "    if(feed_id =='SW1'): \n",
    "        print(f\" Current Status of motor is {payload} \")\n",
    "    \n",
    "    elif(feed_id =='level'):\n",
    "        print(f\" The brightness is {payload} % \")\n",
    "\n",
    "    \n",
    "client=MQTTClient(ADAFRUIT_IO_USERNAME,ADAFRUIT_IO_KEY)\n",
    "\n",
    "client.on_connect = connect\n",
    "client.on_disconnect = disconnect\n",
    "client.on_message = message\n",
    "\n",
    "client.connect()\n",
    "client.loop_background()\n",
    "\n",
    "    "
   ]
  },
  {
   "cell_type": "code",
   "execution_count": null,
   "id": "b0511986",
   "metadata": {},
   "outputs": [],
   "source": []
  }
 ],
 "metadata": {
  "kernelspec": {
   "display_name": "Python 3 (ipykernel)",
   "language": "python",
   "name": "python3"
  },
  "language_info": {
   "codemirror_mode": {
    "name": "ipython",
    "version": 3
   },
   "file_extension": ".py",
   "mimetype": "text/x-python",
   "name": "python",
   "nbconvert_exporter": "python",
   "pygments_lexer": "ipython3",
   "version": "3.9.7"
  }
 },
 "nbformat": 4,
 "nbformat_minor": 5
}
